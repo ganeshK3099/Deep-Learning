{
 "cells": [
  {
   "cell_type": "markdown",
   "metadata": {
    "id": "SCugAL5lpQGQ"
   },
   "source": [
    "Implementation Of Perceptron Using AND Logic Gate"
   ]
  },
  {
   "cell_type": "code",
   "execution_count": 1,
   "metadata": {
    "colab": {
     "base_uri": "https://localhost:8080/"
    },
    "id": "A1cX7FSapXmx",
    "outputId": "b0c168dc-fba8-4030-eada-c197f49004d8"
   },
   "outputs": [
    {
     "name": "stdout",
     "output_type": "stream",
     "text": [
      "AND(0,1)=0\n",
      "AND(1,1)=1\n",
      "AND(0,0)=0\n",
      "AND(1,0)=0\n"
     ]
    }
   ],
   "source": [
    "#importing numpy library\n",
    "import numpy as np\n",
    "#define unit step function\n",
    "def unitstep(v):\n",
    "  if v>=0:\n",
    "    return 1\n",
    "  else:\n",
    "    return 0\n",
    "#design perceptron model\n",
    "def perceptron(x,w,b):\n",
    "  v = np.dot(w,x)+b\n",
    "  y = unitstep(v)\n",
    "  return y\n",
    "#AND Logic Function\n",
    "#w1 = 1,w2=1,b = -1.5\n",
    "def AND_logicfunction(x):\n",
    "  w = np.array([1,1])\n",
    "  b = -1.5\n",
    "  return perceptron(x,w,b)\n",
    "#testing the perceptron model\n",
    "test1 = np.array([0,1])\n",
    "test2 = np.array([1,1])\n",
    "test3 = np.array([0,0])\n",
    "test4 = np.array([1,0])\n",
    "print(\"AND({},{})={}\".format(0,1,AND_logicfunction(test1)))\n",
    "print(\"AND({},{})={}\".format(1,1,AND_logicfunction(test2)))\n",
    "print(\"AND({},{})={}\".format(0,0,AND_logicfunction(test3)))\n",
    "print(\"AND({},{})={}\".format(1,0,AND_logicfunction(test4)))\n"
   ]
  },
  {
   "cell_type": "markdown",
   "metadata": {
    "id": "DtajuI7IhNpO"
   },
   "source": [
    "Implementation of Percptron using OR Gate\n"
   ]
  },
  {
   "cell_type": "code",
   "execution_count": 2,
   "metadata": {
    "colab": {
     "base_uri": "https://localhost:8080/"
    },
    "id": "6FWVcaUlhUB7",
    "outputId": "e7fa6b7e-33e8-4f23-8c03-393302608ab7"
   },
   "outputs": [
    {
     "name": "stdout",
     "output_type": "stream",
     "text": [
      "OR(0,1)=1\n",
      "OR(1,1)=1\n",
      "OR(0,0)=0\n",
      "OR(1,0)=1\n"
     ]
    }
   ],
   "source": [
    "#importing numpy library\n",
    "import numpy as np\n",
    "#define unit step function\n",
    "def unitstep(v):\n",
    "  if v>=0:\n",
    "    return 1\n",
    "  else:\n",
    "    return 0\n",
    "#design perceptron model\n",
    "def perceptron(x,w,b):\n",
    "  v = np.dot(w,x)+b\n",
    "  y = unitstep(v)\n",
    "  return y\n",
    "#or Logic Function\n",
    "#w1 = 1,w2=1,b = -0.5\n",
    "def or_logicfunction(x):\n",
    "  w = np.array([1,1])\n",
    "  b = -0.5\n",
    "  return perceptron(x,w,b)\n",
    "#testing the perceptron model\n",
    "test1 = np.array([0,1])\n",
    "test2 = np.array([1,1])\n",
    "test3 = np.array([0,0])\n",
    "test4 = np.array([1,0])\n",
    "print(\"OR({},{})={}\".format(0,1,or_logicfunction(test1)))\n",
    "print(\"OR({},{})={}\".format(1,1,or_logicfunction(test2)))\n",
    "print(\"OR({},{})={}\".format(0,0,or_logicfunction(test3)))\n",
    "print(\"OR({},{})={}\".format(1,0,or_logicfunction(test4)))\n"
   ]
  },
  {
   "cell_type": "markdown",
   "metadata": {
    "id": "IBTp6_S0qGXd"
   },
   "source": [
    "Implementation of perceptron Using XOR Function\n"
   ]
  },
  {
   "cell_type": "code",
   "execution_count": 6,
   "metadata": {
    "colab": {
     "base_uri": "https://localhost:8080/"
    },
    "id": "Ug2X32ImtoNy",
    "outputId": "491b6c9a-d462-4722-f52d-cd3b0e36b3e9"
   },
   "outputs": [
    {
     "name": "stdout",
     "output_type": "stream",
     "text": [
      "XOR(0, 1) = 1\n",
      "XOR(1, 1) = 0\n",
      "XOR(0, 0) = 0\n",
      "XOR(1, 0) = 1\n"
     ]
    }
   ],
   "source": [
    "# importing Python library\n",
    "import numpy as np\n",
    "  \n",
    "# define Unit Step Function\n",
    "def unitStep(v):\n",
    "    if v >= 0:\n",
    "        return 1\n",
    "    else:\n",
    "        return 0\n",
    "  \n",
    "# design Perceptron Model\n",
    "def perceptronModel(x, w, b):\n",
    "    v = np.dot(w, x) + b\n",
    "    y = unitStep(v)\n",
    "    return y\n",
    "  \n",
    "# NOT Logic Function\n",
    "# wNOT = -1, bNOT = 0.5\n",
    "def NOT_logicFunction(x):\n",
    "    wNOT = -1\n",
    "    bNOT = 0.5\n",
    "    return perceptronModel(x, wNOT, bNOT)\n",
    "  \n",
    "# AND Logic Function\n",
    "# here w1 = wAND1 = 1, \n",
    "# w2 = wAND2 = 1, bAND = -1.5\n",
    "def AND_logicFunction(x):\n",
    "    w = np.array([1, 1])\n",
    "    bAND = -1.5\n",
    "    return perceptronModel(x, w, bAND)\n",
    "  \n",
    "# OR Logic Function\n",
    "# w1 = 1, w2 = 1, bOR = -0.5\n",
    "def OR_logicFunction(x):\n",
    "    w = np.array([1, 1])\n",
    "    bOR = -0.5\n",
    "    return perceptronModel(x, w, bOR)\n",
    "  \n",
    "# XOR Logic Function\n",
    "# with AND, OR and NOT  \n",
    "# function calls in sequence\n",
    "def XOR_logicFunction(x):\n",
    "    y1 = AND_logicFunction(x)\n",
    "    y2 = OR_logicFunction(x)\n",
    "    y3 = NOT_logicFunction(y1)\n",
    "    final_x = np.array([y2, y3])\n",
    "    finalOutput = AND_logicFunction(final_x)\n",
    "    return finalOutput\n",
    "  \n",
    "# testing the Perceptron Model\n",
    "test1 = np.array([0, 1])\n",
    "test2 = np.array([1, 1])\n",
    "test3 = np.array([0, 0])\n",
    "test4 = np.array([1, 0])\n",
    "  \n",
    "print(\"XOR({}, {}) = {}\".format(0, 1, XOR_logicFunction(test1)))\n",
    "print(\"XOR({}, {}) = {}\".format(1, 1, XOR_logicFunction(test2)))\n",
    "print(\"XOR({}, {}) = {}\".format(0, 0, XOR_logicFunction(test3)))\n",
    "print(\"XOR({}, {}) = {}\".format(1, 0, XOR_logicFunction(test4)))"
   ]
  },
  {
   "cell_type": "markdown",
   "metadata": {
    "id": "589yGvznxiT0"
   },
   "source": [
    "Implementation Of Perceptron Using NAND Gate"
   ]
  },
  {
   "cell_type": "code",
   "execution_count": 7,
   "metadata": {
    "colab": {
     "base_uri": "https://localhost:8080/"
    },
    "id": "jof3HTkixoz6",
    "outputId": "bcd6931d-d4c7-4602-8fba-c984dec76b61"
   },
   "outputs": [
    {
     "name": "stdout",
     "output_type": "stream",
     "text": [
      "NAND(0, 1) = 1\n",
      "NAND(1, 1) = 0\n",
      "NAND(0, 0) = 1\n",
      "NAND(1, 0) = 1\n"
     ]
    }
   ],
   "source": [
    "# importing Python library\n",
    "import numpy as np\n",
    "  \n",
    "# define Unit Step Function\n",
    "def unitStep(v):\n",
    "    if v >= 0:\n",
    "        return 1\n",
    "    else:\n",
    "        return 0\n",
    "  \n",
    "# design Perceptron Model\n",
    "def perceptronModel(x, w, b):\n",
    "    v = np.dot(w, x) + b\n",
    "    y = unitStep(v)\n",
    "    return y\n",
    "  \n",
    "# NOT Logic Function\n",
    "# wNOT = -1, bNOT = 0.5\n",
    "def NOT_logicFunction(x):\n",
    "    wNOT = -1\n",
    "    bNOT = 0.5\n",
    "    return perceptronModel(x, wNOT, bNOT)\n",
    "  \n",
    "# AND Logic Function\n",
    "# w1 = 1, w2 = 1, bAND = -1.5\n",
    "def AND_logicFunction(x):\n",
    "    w = np.array([1, 1])\n",
    "    bAND = -1.5\n",
    "    return perceptronModel(x, w, bAND)\n",
    "  \n",
    "# NAND Logic Function\n",
    "# with AND and NOT  \n",
    "# function calls in sequence\n",
    "def NAND_logicFunction(x):\n",
    "    output_AND = AND_logicFunction(x)\n",
    "    output_NOT = NOT_logicFunction(output_AND)\n",
    "    return output_NOT\n",
    "  \n",
    "# testing the Perceptron Model\n",
    "test1 = np.array([0, 1])\n",
    "test2 = np.array([1, 1])\n",
    "test3 = np.array([0, 0])\n",
    "test4 = np.array([1, 0])\n",
    "  \n",
    "print(\"NAND({}, {}) = {}\".format(0, 1, NAND_logicFunction(test1)))\n",
    "print(\"NAND({}, {}) = {}\".format(1, 1, NAND_logicFunction(test2)))\n",
    "print(\"NAND({}, {}) = {}\".format(0, 0, NAND_logicFunction(test3)))\n",
    "print(\"NAND({}, {}) = {}\".format(1, 0, NAND_logicFunction(test4)))"
   ]
  },
  {
   "cell_type": "code",
   "execution_count": 19,
   "metadata": {
    "colab": {
     "base_uri": "https://localhost:8080/"
    },
    "id": "4-uEqoRuxxA0",
    "outputId": "f30282fb-9ccb-4819-a41c-8a147cff26d4"
   },
   "outputs": [
    {
     "name": "stdout",
     "output_type": "stream",
     "text": [
      "AND(6,4)=0\n",
      "AND(6,2)=0\n",
      "AND(4,3)=0\n",
      "AND(4.5,4)=0\n"
     ]
    }
   ],
   "source": [
    "#importing numpy library\n",
    "import numpy as np\n",
    "#define unit step function\n",
    "def unitstep(v):\n",
    "  if v>0:\n",
    "    return 1\n",
    "  else:\n",
    "    return 0\n",
    "#design perceptron model\n",
    "def perceptron(x,w,b):\n",
    "  v = np.dot(w,x)+b\n",
    "  y = unitstep(v)\n",
    "  return y\n",
    "#AND Logic Function\n",
    "#w1 = 1,w2=-1,b = -1.5\n",
    "def AND_logicfunction(x):\n",
    "  w = np.array([-1,-1])\n",
    "  b = -0.5\n",
    "  return perceptron(x,w,b)\n",
    "#testing the perceptron model\n",
    "test1 = np.array([6,4])\n",
    "test2 = np.array([6,2])\n",
    "test3 = np.array([4,3])\n",
    "test4 = np.array([4.5,4])\n",
    "print(\"AND({},{})={}\".format(6,4,AND_logicfunction(test1)))\n",
    "print(\"AND({},{})={}\".format(6,2,AND_logicfunction(test2)))\n",
    "print(\"AND({},{})={}\".format(4,3,AND_logicfunction(test3)))\n",
    "print(\"AND({},{})={}\".format(4.5,4,AND_logicfunction(test4)))\n"
   ]
  }
 ],
 "metadata": {
  "colab": {
   "name": "Perceptron using Gates.ipynb",
   "provenance": []
  },
  "kernelspec": {
   "display_name": "Python 3",
   "language": "python",
   "name": "python3"
  },
  "language_info": {
   "codemirror_mode": {
    "name": "ipython",
    "version": 3
   },
   "file_extension": ".py",
   "mimetype": "text/x-python",
   "name": "python",
   "nbconvert_exporter": "python",
   "pygments_lexer": "ipython3",
   "version": "3.8.8"
  }
 },
 "nbformat": 4,
 "nbformat_minor": 1
}
