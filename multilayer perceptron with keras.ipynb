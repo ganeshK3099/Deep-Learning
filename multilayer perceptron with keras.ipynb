{
  "cells": [
    {
      "cell_type": "markdown",
      "source": [
        "**Name: Ganesh Kulkarni  PRN: 1132210686**"
      ],
      "metadata": {
        "id": "O4_OCz996GI3"
      }
    },
    {
      "cell_type": "code",
      "source": [
        "from google.colab import drive\n",
        "drive.mount('/content/drive')"
      ],
      "metadata": {
        "colab": {
          "base_uri": "https://localhost:8080/"
        },
        "id": "pEb9_JFNiBuR",
        "outputId": "194cd6e9-ec87-4fe7-fcf1-86308d04ac46"
      },
      "execution_count": 41,
      "outputs": [
        {
          "output_type": "stream",
          "name": "stdout",
          "text": [
            "Drive already mounted at /content/drive; to attempt to forcibly remount, call drive.mount(\"/content/drive\", force_remount=True).\n"
          ]
        }
      ]
    },
    {
      "cell_type": "code",
      "execution_count": 42,
      "metadata": {
        "id": "SQc-xeWB2_r2"
      },
      "outputs": [],
      "source": [
        "from tensorflow.keras.models import Sequential\n",
        "from tensorflow.keras.layers import Dense,Dropout\n",
        "from sklearn.model_selection import train_test_split\n",
        "from tensorflow.keras.utils import plot_model\n",
        "from numpy import loadtxt\n",
        "import pandas as pd"
      ]
    },
    {
      "cell_type": "code",
      "execution_count": 43,
      "metadata": {
        "colab": {
          "base_uri": "https://localhost:8080/",
          "height": 206
        },
        "id": "WCKGLFva5fjg",
        "outputId": "60847f65-3082-4414-e1ec-c986151a5561"
      },
      "outputs": [
        {
          "output_type": "execute_result",
          "data": {
            "text/plain": [
              "   Temperature  Humidity  Wind Speed  general diffuse flows  diffuse flows  \\\n",
              "0        6.559      73.8       0.083                  0.051          0.119   \n",
              "1        6.414      74.5       0.083                  0.070          0.085   \n",
              "2        6.313      74.5       0.080                  0.062          0.100   \n",
              "3        6.121      75.0       0.083                  0.091          0.096   \n",
              "4        5.921      75.7       0.081                  0.048          0.085   \n",
              "\n",
              "   Zone 1 Power Consumption  Zone 2  Power Consumption  \\\n",
              "0               34055.69620                16128.87538   \n",
              "1               29814.68354                19375.07599   \n",
              "2               29128.10127                19006.68693   \n",
              "3               28228.86076                18361.09422   \n",
              "4               27335.69620                17872.34043   \n",
              "\n",
              "   Zone 3  Power Consumption  \n",
              "0                20240.96386  \n",
              "1                20131.08434  \n",
              "2                19668.43373  \n",
              "3                18899.27711  \n",
              "4                18442.40964  "
            ],
            "text/html": [
              "\n",
              "  <div id=\"df-d493537a-b6dc-4aa9-8c37-a391ac9572fd\">\n",
              "    <div class=\"colab-df-container\">\n",
              "      <div>\n",
              "<style scoped>\n",
              "    .dataframe tbody tr th:only-of-type {\n",
              "        vertical-align: middle;\n",
              "    }\n",
              "\n",
              "    .dataframe tbody tr th {\n",
              "        vertical-align: top;\n",
              "    }\n",
              "\n",
              "    .dataframe thead th {\n",
              "        text-align: right;\n",
              "    }\n",
              "</style>\n",
              "<table border=\"1\" class=\"dataframe\">\n",
              "  <thead>\n",
              "    <tr style=\"text-align: right;\">\n",
              "      <th></th>\n",
              "      <th>Temperature</th>\n",
              "      <th>Humidity</th>\n",
              "      <th>Wind Speed</th>\n",
              "      <th>general diffuse flows</th>\n",
              "      <th>diffuse flows</th>\n",
              "      <th>Zone 1 Power Consumption</th>\n",
              "      <th>Zone 2  Power Consumption</th>\n",
              "      <th>Zone 3  Power Consumption</th>\n",
              "    </tr>\n",
              "  </thead>\n",
              "  <tbody>\n",
              "    <tr>\n",
              "      <th>0</th>\n",
              "      <td>6.559</td>\n",
              "      <td>73.8</td>\n",
              "      <td>0.083</td>\n",
              "      <td>0.051</td>\n",
              "      <td>0.119</td>\n",
              "      <td>34055.69620</td>\n",
              "      <td>16128.87538</td>\n",
              "      <td>20240.96386</td>\n",
              "    </tr>\n",
              "    <tr>\n",
              "      <th>1</th>\n",
              "      <td>6.414</td>\n",
              "      <td>74.5</td>\n",
              "      <td>0.083</td>\n",
              "      <td>0.070</td>\n",
              "      <td>0.085</td>\n",
              "      <td>29814.68354</td>\n",
              "      <td>19375.07599</td>\n",
              "      <td>20131.08434</td>\n",
              "    </tr>\n",
              "    <tr>\n",
              "      <th>2</th>\n",
              "      <td>6.313</td>\n",
              "      <td>74.5</td>\n",
              "      <td>0.080</td>\n",
              "      <td>0.062</td>\n",
              "      <td>0.100</td>\n",
              "      <td>29128.10127</td>\n",
              "      <td>19006.68693</td>\n",
              "      <td>19668.43373</td>\n",
              "    </tr>\n",
              "    <tr>\n",
              "      <th>3</th>\n",
              "      <td>6.121</td>\n",
              "      <td>75.0</td>\n",
              "      <td>0.083</td>\n",
              "      <td>0.091</td>\n",
              "      <td>0.096</td>\n",
              "      <td>28228.86076</td>\n",
              "      <td>18361.09422</td>\n",
              "      <td>18899.27711</td>\n",
              "    </tr>\n",
              "    <tr>\n",
              "      <th>4</th>\n",
              "      <td>5.921</td>\n",
              "      <td>75.7</td>\n",
              "      <td>0.081</td>\n",
              "      <td>0.048</td>\n",
              "      <td>0.085</td>\n",
              "      <td>27335.69620</td>\n",
              "      <td>17872.34043</td>\n",
              "      <td>18442.40964</td>\n",
              "    </tr>\n",
              "  </tbody>\n",
              "</table>\n",
              "</div>\n",
              "      <button class=\"colab-df-convert\" onclick=\"convertToInteractive('df-d493537a-b6dc-4aa9-8c37-a391ac9572fd')\"\n",
              "              title=\"Convert this dataframe to an interactive table.\"\n",
              "              style=\"display:none;\">\n",
              "        \n",
              "  <svg xmlns=\"http://www.w3.org/2000/svg\" height=\"24px\"viewBox=\"0 0 24 24\"\n",
              "       width=\"24px\">\n",
              "    <path d=\"M0 0h24v24H0V0z\" fill=\"none\"/>\n",
              "    <path d=\"M18.56 5.44l.94 2.06.94-2.06 2.06-.94-2.06-.94-.94-2.06-.94 2.06-2.06.94zm-11 1L8.5 8.5l.94-2.06 2.06-.94-2.06-.94L8.5 2.5l-.94 2.06-2.06.94zm10 10l.94 2.06.94-2.06 2.06-.94-2.06-.94-.94-2.06-.94 2.06-2.06.94z\"/><path d=\"M17.41 7.96l-1.37-1.37c-.4-.4-.92-.59-1.43-.59-.52 0-1.04.2-1.43.59L10.3 9.45l-7.72 7.72c-.78.78-.78 2.05 0 2.83L4 21.41c.39.39.9.59 1.41.59.51 0 1.02-.2 1.41-.59l7.78-7.78 2.81-2.81c.8-.78.8-2.07 0-2.86zM5.41 20L4 18.59l7.72-7.72 1.47 1.35L5.41 20z\"/>\n",
              "  </svg>\n",
              "      </button>\n",
              "      \n",
              "  <style>\n",
              "    .colab-df-container {\n",
              "      display:flex;\n",
              "      flex-wrap:wrap;\n",
              "      gap: 12px;\n",
              "    }\n",
              "\n",
              "    .colab-df-convert {\n",
              "      background-color: #E8F0FE;\n",
              "      border: none;\n",
              "      border-radius: 50%;\n",
              "      cursor: pointer;\n",
              "      display: none;\n",
              "      fill: #1967D2;\n",
              "      height: 32px;\n",
              "      padding: 0 0 0 0;\n",
              "      width: 32px;\n",
              "    }\n",
              "\n",
              "    .colab-df-convert:hover {\n",
              "      background-color: #E2EBFA;\n",
              "      box-shadow: 0px 1px 2px rgba(60, 64, 67, 0.3), 0px 1px 3px 1px rgba(60, 64, 67, 0.15);\n",
              "      fill: #174EA6;\n",
              "    }\n",
              "\n",
              "    [theme=dark] .colab-df-convert {\n",
              "      background-color: #3B4455;\n",
              "      fill: #D2E3FC;\n",
              "    }\n",
              "\n",
              "    [theme=dark] .colab-df-convert:hover {\n",
              "      background-color: #434B5C;\n",
              "      box-shadow: 0px 1px 3px 1px rgba(0, 0, 0, 0.15);\n",
              "      filter: drop-shadow(0px 1px 2px rgba(0, 0, 0, 0.3));\n",
              "      fill: #FFFFFF;\n",
              "    }\n",
              "  </style>\n",
              "\n",
              "      <script>\n",
              "        const buttonEl =\n",
              "          document.querySelector('#df-d493537a-b6dc-4aa9-8c37-a391ac9572fd button.colab-df-convert');\n",
              "        buttonEl.style.display =\n",
              "          google.colab.kernel.accessAllowed ? 'block' : 'none';\n",
              "\n",
              "        async function convertToInteractive(key) {\n",
              "          const element = document.querySelector('#df-d493537a-b6dc-4aa9-8c37-a391ac9572fd');\n",
              "          const dataTable =\n",
              "            await google.colab.kernel.invokeFunction('convertToInteractive',\n",
              "                                                     [key], {});\n",
              "          if (!dataTable) return;\n",
              "\n",
              "          const docLinkHtml = 'Like what you see? Visit the ' +\n",
              "            '<a target=\"_blank\" href=https://colab.research.google.com/notebooks/data_table.ipynb>data table notebook</a>'\n",
              "            + ' to learn more about interactive tables.';\n",
              "          element.innerHTML = '';\n",
              "          dataTable['output_type'] = 'display_data';\n",
              "          await google.colab.output.renderOutput(dataTable, element);\n",
              "          const docLink = document.createElement('div');\n",
              "          docLink.innerHTML = docLinkHtml;\n",
              "          element.appendChild(docLink);\n",
              "        }\n",
              "      </script>\n",
              "    </div>\n",
              "  </div>\n",
              "  "
            ]
          },
          "metadata": {},
          "execution_count": 43
        }
      ],
      "source": [
        "df = pd.read_csv('/content/drive/MyDrive/datasets/power_consumption.csv')\n",
        "df.head()"
      ]
    },
    {
      "cell_type": "code",
      "execution_count": 44,
      "metadata": {
        "colab": {
          "base_uri": "https://localhost:8080/"
        },
        "id": "Jx2Zt9tH6Meu",
        "outputId": "ecabda28-f600-4c7b-a093-faa0fb98f27c"
      },
      "outputs": [
        {
          "output_type": "execute_result",
          "data": {
            "text/plain": [
              "(52416, 8)"
            ]
          },
          "metadata": {},
          "execution_count": 44
        }
      ],
      "source": [
        "df.shape"
      ]
    },
    {
      "cell_type": "code",
      "execution_count": 45,
      "metadata": {
        "id": "fN3P-rtV5vmL"
      },
      "outputs": [],
      "source": [
        "X = df.iloc[:,:7]\n",
        "y = df.iloc[:,7]\n",
        "X_train,X_test,y_train,y_test = train_test_split(X,y,test_size=0.2,random_state=42)\n"
      ]
    },
    {
      "cell_type": "code",
      "execution_count": 46,
      "metadata": {
        "id": "ncCZrElFL8LV"
      },
      "outputs": [],
      "source": [
        "from sklearn.preprocessing import StandardScaler\n",
        "sc = StandardScaler()\n",
        "X_train = sc.fit_transform(X_train)\n",
        "X_test = sc.transform(X_test)"
      ]
    },
    {
      "cell_type": "markdown",
      "metadata": {
        "id": "gVhpt6J8mKd3"
      },
      "source": [
        "## Model 1 \n",
        "\n"
      ]
    },
    {
      "cell_type": "code",
      "execution_count": 47,
      "metadata": {
        "id": "T6Z7YU1J3OzC"
      },
      "outputs": [],
      "source": [
        "model=Sequential()\n",
        "model.add(Dense(128,input_dim=7,activation='relu'))\n",
        "model.add(Dense(64,activation='relu'))\n",
        "model.add(Dense(1,activation='linear'))"
      ]
    },
    {
      "cell_type": "code",
      "execution_count": 48,
      "metadata": {
        "colab": {
          "base_uri": "https://localhost:8080/",
          "height": 422
        },
        "id": "C45EOtAA3RRx",
        "outputId": "492536d8-723d-4647-e808-cff05a5ea7b5"
      },
      "outputs": [
        {
          "output_type": "execute_result",
          "data": {
            "text/plain": [
              "<IPython.core.display.Image object>"
            ],
            "image/png": "[encoded data removed]"
          },
          "metadata": {},
          "execution_count": 48
        }
      ],
      "source": [
        "plot_model(model,show_shapes=True,show_layer_names=True)"
      ]
    },
    {
      "cell_type": "code",
      "execution_count": 49,
      "metadata": {
        "id": "iOCQhpEPbkFR"
      },
      "outputs": [],
      "source": [
        "from tensorflow.keras.losses import MeanSquaredLogarithmicError\n",
        "msle = MeanSquaredLogarithmicError()"
      ]
    },
    {
      "cell_type": "code",
      "execution_count": 50,
      "metadata": {
        "id": "-kel5UDR6gn6"
      },
      "outputs": [],
      "source": [
        "model.compile(loss='msle',optimizer='adam',metrics=['RootMeanSquaredError'])"
      ]
    },
    {
      "cell_type": "code",
      "execution_count": 51,
      "metadata": {
        "colab": {
          "base_uri": "https://localhost:8080/"
        },
        "id": "E4uC7upS6ka4",
        "outputId": "fd7a9d70-b5a2-4f3a-8ce2-0866a0bb9776"
      },
      "outputs": [
        {
          "output_type": "stream",
          "name": "stdout",
          "text": [
            "Epoch 1/30\n",
            "2097/2097 [==============================] - 3s 1ms/step - loss: 14.5541 - root_mean_squared_error: 17957.6562\n",
            "Epoch 2/30\n",
            "2097/2097 [==============================] - 3s 1ms/step - loss: 1.4265 - root_mean_squared_error: 13236.5596\n",
            "Epoch 3/30\n",
            "2097/2097 [==============================] - 3s 1ms/step - loss: 0.2301 - root_mean_squared_error: 7573.1265\n",
            "Epoch 4/30\n",
            "2097/2097 [==============================] - 3s 1ms/step - loss: 0.0887 - root_mean_squared_error: 5083.2739\n",
            "Epoch 5/30\n",
            "2097/2097 [==============================] - 3s 1ms/step - loss: 0.0549 - root_mean_squared_error: 4145.3721\n",
            "Epoch 6/30\n",
            "2097/2097 [==============================] - 3s 1ms/step - loss: 0.0411 - root_mean_squared_error: 3696.7651\n",
            "Epoch 7/30\n",
            "2097/2097 [==============================] - 3s 1ms/step - loss: 0.0375 - root_mean_squared_error: 3536.5515\n",
            "Epoch 8/30\n",
            "2097/2097 [==============================] - 3s 1ms/step - loss: 0.0356 - root_mean_squared_error: 3431.9397\n",
            "Epoch 9/30\n",
            "2097/2097 [==============================] - 3s 1ms/step - loss: 0.0340 - root_mean_squared_error: 3340.5044\n",
            "Epoch 10/30\n",
            "2097/2097 [==============================] - 3s 1ms/step - loss: 0.0325 - root_mean_squared_error: 3257.8455\n",
            "Epoch 11/30\n",
            "2097/2097 [==============================] - 3s 1ms/step - loss: 0.0311 - root_mean_squared_error: 3180.2346\n",
            "Epoch 12/30\n",
            "2097/2097 [==============================] - 3s 1ms/step - loss: 0.0299 - root_mean_squared_error: 3115.0771\n",
            "Epoch 13/30\n",
            "2097/2097 [==============================] - 3s 1ms/step - loss: 0.0288 - root_mean_squared_error: 3053.6311\n",
            "Epoch 14/30\n",
            "2097/2097 [==============================] - 3s 1ms/step - loss: 0.0280 - root_mean_squared_error: 3014.6372\n",
            "Epoch 15/30\n",
            "2097/2097 [==============================] - 3s 1ms/step - loss: 0.0274 - root_mean_squared_error: 2985.4182\n",
            "Epoch 16/30\n",
            "2097/2097 [==============================] - 3s 1ms/step - loss: 0.0270 - root_mean_squared_error: 2960.2244\n",
            "Epoch 17/30\n",
            "2097/2097 [==============================] - 3s 1ms/step - loss: 0.0266 - root_mean_squared_error: 2945.5413\n",
            "Epoch 18/30\n",
            "2097/2097 [==============================] - 3s 1ms/step - loss: 0.0264 - root_mean_squared_error: 2933.3867\n",
            "Epoch 19/30\n",
            "2097/2097 [==============================] - 3s 1ms/step - loss: 0.0261 - root_mean_squared_error: 2923.1147\n",
            "Epoch 20/30\n",
            "2097/2097 [==============================] - 3s 1ms/step - loss: 0.0259 - root_mean_squared_error: 2913.0583\n",
            "Epoch 21/30\n",
            "2097/2097 [==============================] - 3s 1ms/step - loss: 0.0257 - root_mean_squared_error: 2905.6233\n",
            "Epoch 22/30\n",
            "2097/2097 [==============================] - 3s 1ms/step - loss: 0.0256 - root_mean_squared_error: 2897.3892\n",
            "Epoch 23/30\n",
            "2097/2097 [==============================] - 3s 1ms/step - loss: 0.0254 - root_mean_squared_error: 2889.6873\n",
            "Epoch 24/30\n",
            "2097/2097 [==============================] - 3s 1ms/step - loss: 0.0252 - root_mean_squared_error: 2882.2815\n",
            "Epoch 25/30\n",
            "2097/2097 [==============================] - 3s 1ms/step - loss: 0.0251 - root_mean_squared_error: 2870.9346\n",
            "Epoch 26/30\n",
            "2097/2097 [==============================] - 3s 1ms/step - loss: 0.0249 - root_mean_squared_error: 2867.8010\n",
            "Epoch 27/30\n",
            "2097/2097 [==============================] - 3s 1ms/step - loss: 0.0248 - root_mean_squared_error: 2858.0549\n",
            "Epoch 28/30\n",
            "2097/2097 [==============================] - 3s 1ms/step - loss: 0.0246 - root_mean_squared_error: 2850.4189\n",
            "Epoch 29/30\n",
            "2097/2097 [==============================] - 3s 1ms/step - loss: 0.0245 - root_mean_squared_error: 2844.4636\n",
            "Epoch 30/30\n",
            "2097/2097 [==============================] - 3s 1ms/step - loss: 0.0243 - root_mean_squared_error: 2836.9565\n"
          ]
        },
        {
          "output_type": "execute_result",
          "data": {
            "text/plain": [
              "<keras.callbacks.History at 0x7f0839d37ad0>"
            ]
          },
          "metadata": {},
          "execution_count": 51
        }
      ],
      "source": [
        "model.fit(X_train,y_train,epochs=30,batch_size=20,verbose=1)"
      ]
    },
    {
      "cell_type": "code",
      "execution_count": 52,
      "metadata": {
        "colab": {
          "base_uri": "https://localhost:8080/"
        },
        "id": "Tzv1_cP5kI7Z",
        "outputId": "6fd083ff-cf69-4b12-834c-2af572c0e37c"
      },
      "outputs": [
        {
          "output_type": "execute_result",
          "data": {
            "text/plain": [
              "0.8159181814711473"
            ]
          },
          "metadata": {},
          "execution_count": 52
        }
      ],
      "source": [
        "pred = model.predict(X_test)\n",
        "import numpy as np\n",
        "from sklearn.metrics import r2_score\n",
        "pred = np.squeeze(pred)\n",
        "y_test = np.squeeze(np.array(y_test))\n",
        "r2_score(y_test,pred)"
      ]
    },
    {
      "cell_type": "markdown",
      "metadata": {
        "id": "kagY_CyHmo34"
      },
      "source": [
        "## Model 2\n"
      ]
    },
    {
      "cell_type": "code",
      "execution_count": 53,
      "metadata": {
        "id": "W6A3bq-Qf8lw"
      },
      "outputs": [],
      "source": [
        "model=Sequential()\n",
        "model.add(Dense(128,input_dim=7,activation='relu'))\n",
        "model.add(Dense(64,activation='relu'))\n",
        "model.add(Dense(1,activation='PReLU'))"
      ]
    },
    {
      "cell_type": "code",
      "execution_count": 54,
      "metadata": {
        "colab": {
          "base_uri": "https://localhost:8080/",
          "height": 422
        },
        "id": "DKhrIncgnLf4",
        "outputId": "004070aa-3872-4a5e-d49e-8db2ea1467b2"
      },
      "outputs": [
        {
          "output_type": "execute_result",
          "data": {
            "text/plain": [
              "<IPython.core.display.Image object>"
            ],
            "image/png": "[encoded data removed]"
          },
          "metadata": {},
          "execution_count": 54
        }
      ],
      "source": [
        "plot_model(model,show_shapes=True,show_layer_names=True)"
      ]
    },
    {
      "cell_type": "code",
      "execution_count": 55,
      "metadata": {
        "id": "2amunNl-nWV8"
      },
      "outputs": [],
      "source": [
        "model.compile(loss='msle',optimizer='adam',metrics=['RootMeanSquaredError'])"
      ]
    },
    {
      "cell_type": "code",
      "execution_count": 56,
      "metadata": {
        "colab": {
          "base_uri": "https://localhost:8080/"
        },
        "id": "ydhoT8orngPZ",
        "outputId": "4a2ce34a-9154-4987-9234-35b2d1251b9f"
      },
      "outputs": [
        {
          "output_type": "stream",
          "name": "stdout",
          "text": [
            "Epoch 1/20\n",
            "2097/2097 [==============================] - 3s 1ms/step - loss: 13.4117 - root_mean_squared_error: 17788.7695\n",
            "Epoch 2/20\n",
            "2097/2097 [==============================] - 3s 1ms/step - loss: 1.1708 - root_mean_squared_error: 12582.8184\n",
            "Epoch 3/20\n",
            "2097/2097 [==============================] - 3s 1ms/step - loss: 0.1877 - root_mean_squared_error: 6974.6714\n",
            "Epoch 4/20\n",
            "2097/2097 [==============================] - 3s 1ms/step - loss: 0.0806 - root_mean_squared_error: 4825.5288\n",
            "Epoch 5/20\n",
            "2097/2097 [==============================] - 3s 1ms/step - loss: 0.0505 - root_mean_squared_error: 3977.1279\n",
            "Epoch 6/20\n",
            "2097/2097 [==============================] - 3s 1ms/step - loss: 0.0393 - root_mean_squared_error: 3601.1226\n",
            "Epoch 7/20\n",
            "2097/2097 [==============================] - 3s 1ms/step - loss: 0.0362 - root_mean_squared_error: 3458.4336\n",
            "Epoch 8/20\n",
            "2097/2097 [==============================] - 3s 1ms/step - loss: 0.0343 - root_mean_squared_error: 3354.4028\n",
            "Epoch 9/20\n",
            "2097/2097 [==============================] - 3s 1ms/step - loss: 0.0327 - root_mean_squared_error: 3266.8894\n",
            "Epoch 10/20\n",
            "2097/2097 [==============================] - 3s 1ms/step - loss: 0.0313 - root_mean_squared_error: 3190.8650\n",
            "Epoch 11/20\n",
            "2097/2097 [==============================] - 3s 1ms/step - loss: 0.0302 - root_mean_squared_error: 3123.1353\n",
            "Epoch 12/20\n",
            "2097/2097 [==============================] - 3s 1ms/step - loss: 0.0292 - root_mean_squared_error: 3071.0139\n",
            "Epoch 13/20\n",
            "2097/2097 [==============================] - 3s 1ms/step - loss: 0.0284 - root_mean_squared_error: 3029.4858\n",
            "Epoch 14/20\n",
            "2097/2097 [==============================] - 3s 1ms/step - loss: 0.0277 - root_mean_squared_error: 2998.0508\n",
            "Epoch 15/20\n",
            "2097/2097 [==============================] - 3s 1ms/step - loss: 0.0272 - root_mean_squared_error: 2971.0837\n",
            "Epoch 16/20\n",
            "2097/2097 [==============================] - 3s 1ms/step - loss: 0.0268 - root_mean_squared_error: 2951.8281\n",
            "Epoch 17/20\n",
            "2097/2097 [==============================] - 3s 1ms/step - loss: 0.0265 - root_mean_squared_error: 2936.3440\n",
            "Epoch 18/20\n",
            "2097/2097 [==============================] - 3s 1ms/step - loss: 0.0262 - root_mean_squared_error: 2924.4158\n",
            "Epoch 19/20\n",
            "2097/2097 [==============================] - 3s 1ms/step - loss: 0.0260 - root_mean_squared_error: 2916.6321\n",
            "Epoch 20/20\n",
            "2097/2097 [==============================] - 3s 1ms/step - loss: 0.0258 - root_mean_squared_error: 2905.8059\n"
          ]
        },
        {
          "output_type": "execute_result",
          "data": {
            "text/plain": [
              "<keras.callbacks.History at 0x7f083a349fd0>"
            ]
          },
          "metadata": {},
          "execution_count": 56
        }
      ],
      "source": [
        "model.fit(X_train,y_train,epochs=20,batch_size=20,verbose=1)"
      ]
    },
    {
      "cell_type": "code",
      "execution_count": 57,
      "metadata": {
        "colab": {
          "base_uri": "https://localhost:8080/"
        },
        "id": "k8pz-TiXoWcQ",
        "outputId": "bb7a827a-e168-4b61-df50-3f4235a65060"
      },
      "outputs": [
        {
          "output_type": "execute_result",
          "data": {
            "text/plain": [
              "0.8043211369060534"
            ]
          },
          "metadata": {},
          "execution_count": 57
        }
      ],
      "source": [
        "pred = model.predict(X_test)\n",
        "import numpy as np\n",
        "from sklearn.metrics import r2_score\n",
        "pred = np.squeeze(pred)\n",
        "y_test = np.squeeze(np.array(y_test))\n",
        "r2_score(y_test,pred)"
      ]
    },
    {
      "cell_type": "markdown",
      "metadata": {
        "id": "2WempFhPmue6"
      },
      "source": [
        "## Model 3 "
      ]
    },
    {
      "cell_type": "code",
      "execution_count": 58,
      "metadata": {
        "id": "GuAO5hwzmzNV"
      },
      "outputs": [],
      "source": [
        "model=Sequential()\n",
        "model.add(Dense(128,input_dim=7,activation='ELU'))\n",
        "model.add(Dense(64,activation='ELU'))\n",
        "model.add(Dense(1,activation='ELU'))"
      ]
    },
    {
      "cell_type": "code",
      "execution_count": 59,
      "metadata": {
        "colab": {
          "base_uri": "https://localhost:8080/",
          "height": 422
        },
        "id": "0gPtCixunMzX",
        "outputId": "0c67f37b-29b4-4b19-983d-c13a5f1018f1"
      },
      "outputs": [
        {
          "output_type": "execute_result",
          "data": {
            "text/plain": [
              "<IPython.core.display.Image object>"
            ],
            "image/png": "[encoded data removed]"
          },
          "metadata": {},
          "execution_count": 59
        }
      ],
      "source": [
        "plot_model(model,show_shapes=True,show_layer_names=True)"
      ]
    },
    {
      "cell_type": "code",
      "execution_count": 60,
      "metadata": {
        "id": "JHEU0YBBnYl_"
      },
      "outputs": [],
      "source": [
        "model.compile(loss='msle',optimizer='adam',metrics=['RootMeanSquaredError'])"
      ]
    },
    {
      "cell_type": "code",
      "execution_count": 61,
      "metadata": {
        "colab": {
          "base_uri": "https://localhost:8080/"
        },
        "id": "Vh1Rmzaunhau",
        "outputId": "8f7b98fe-b70f-4d8a-9e05-f22786c154f0"
      },
      "outputs": [
        {
          "output_type": "stream",
          "name": "stdout",
          "text": [
            "Epoch 1/20\n",
            "2097/2097 [==============================] - 3s 1ms/step - loss: 16.4812 - root_mean_squared_error: 18140.8184\n",
            "Epoch 2/20\n",
            "2097/2097 [==============================] - 3s 1ms/step - loss: 1.6151 - root_mean_squared_error: 13954.1836\n",
            "Epoch 3/20\n",
            "2097/2097 [==============================] - 3s 1ms/step - loss: 0.2165 - root_mean_squared_error: 7903.9058\n",
            "Epoch 4/20\n",
            "2097/2097 [==============================] - 3s 1ms/step - loss: 0.0558 - root_mean_squared_error: 4374.7002\n",
            "Epoch 5/20\n",
            "2097/2097 [==============================] - 3s 1ms/step - loss: 0.0441 - root_mean_squared_error: 3821.1719\n",
            "Epoch 6/20\n",
            "2097/2097 [==============================] - 3s 1ms/step - loss: 0.0410 - root_mean_squared_error: 3727.1289\n",
            "Epoch 7/20\n",
            "2097/2097 [==============================] - 3s 1ms/step - loss: 0.0397 - root_mean_squared_error: 3665.6719\n",
            "Epoch 8/20\n",
            "2097/2097 [==============================] - 3s 1ms/step - loss: 0.0387 - root_mean_squared_error: 3603.8345\n",
            "Epoch 9/20\n",
            "2097/2097 [==============================] - 3s 1ms/step - loss: 0.0375 - root_mean_squared_error: 3535.9551\n",
            "Epoch 10/20\n",
            "2097/2097 [==============================] - 3s 1ms/step - loss: 0.0362 - root_mean_squared_error: 3461.8765\n",
            "Epoch 11/20\n",
            "2097/2097 [==============================] - 3s 1ms/step - loss: 0.0349 - root_mean_squared_error: 3385.6458\n",
            "Epoch 12/20\n",
            "2097/2097 [==============================] - 3s 1ms/step - loss: 0.0338 - root_mean_squared_error: 3319.1218\n",
            "Epoch 13/20\n",
            "2097/2097 [==============================] - 3s 1ms/step - loss: 0.0327 - root_mean_squared_error: 3256.3518\n",
            "Epoch 14/20\n",
            "2097/2097 [==============================] - 3s 1ms/step - loss: 0.0318 - root_mean_squared_error: 3194.8364\n",
            "Epoch 15/20\n",
            "2097/2097 [==============================] - 3s 1ms/step - loss: 0.0309 - root_mean_squared_error: 3143.2231\n",
            "Epoch 16/20\n",
            "2097/2097 [==============================] - 3s 1ms/step - loss: 0.0302 - root_mean_squared_error: 3095.5898\n",
            "Epoch 17/20\n",
            "2097/2097 [==============================] - 3s 1ms/step - loss: 0.0294 - root_mean_squared_error: 3050.3831\n",
            "Epoch 18/20\n",
            "2097/2097 [==============================] - 3s 1ms/step - loss: 0.0287 - root_mean_squared_error: 3009.0227\n",
            "Epoch 19/20\n",
            "2097/2097 [==============================] - 3s 1ms/step - loss: 0.0281 - root_mean_squared_error: 2975.3457\n",
            "Epoch 20/20\n",
            "2097/2097 [==============================] - 3s 1ms/step - loss: 0.0276 - root_mean_squared_error: 2945.1223\n"
          ]
        },
        {
          "output_type": "execute_result",
          "data": {
            "text/plain": [
              "<keras.callbacks.History at 0x7f083a349b50>"
            ]
          },
          "metadata": {},
          "execution_count": 61
        }
      ],
      "source": [
        "model.fit(X_train,y_train,epochs=20,batch_size=20,verbose=1)"
      ]
    },
    {
      "cell_type": "code",
      "execution_count": 62,
      "metadata": {
        "colab": {
          "base_uri": "https://localhost:8080/"
        },
        "id": "CEurRBEAoXmf",
        "outputId": "8587aaa0-fead-42ab-804a-da439444b55a"
      },
      "outputs": [
        {
          "output_type": "execute_result",
          "data": {
            "text/plain": [
              "0.8037325669107576"
            ]
          },
          "metadata": {},
          "execution_count": 62
        }
      ],
      "source": [
        "pred = model.predict(X_test)\n",
        "import numpy as np\n",
        "from sklearn.metrics import r2_score\n",
        "pred = np.squeeze(pred)\n",
        "y_test = np.squeeze(np.array(y_test))\n",
        "r2_score(y_test,pred)"
      ]
    }
  ],
  "metadata": {
    "colab": {
      "collapsed_sections": [],
      "name": "DL_assignment1.ipynb",
      "provenance": []
    },
    "gpuClass": "standard",
    "kernelspec": {
      "display_name": "Python 3",
      "language": "python",
      "name": "python3"
    },
    "language_info": {
      "codemirror_mode": {
        "name": "ipython",
        "version": 3
      },
      "file_extension": ".py",
      "mimetype": "text/x-python",
      "name": "python",
      "nbconvert_exporter": "python",
      "pygments_lexer": "ipython3",
      "version": "3.8.8"
    }
  },
  "nbformat": 4,
  "nbformat_minor": 0
}