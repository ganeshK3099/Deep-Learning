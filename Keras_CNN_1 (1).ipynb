{
  "nbformat": 4,
  "nbformat_minor": 0,
  "metadata": {
    "colab": {
      "provenance": [],
      "collapsed_sections": []
    },
    "kernelspec": {
      "name": "python3",
      "display_name": "Python 3"
    },
    "language_info": {
      "name": "python"
    }
  },
  "cells": [
    {
      "cell_type": "code",
      "execution_count": null,
      "metadata": {
        "id": "8RhfSIgn69Ij"
      },
      "outputs": [],
      "source": [
        "import numpy as np\n",
        "from keras.datasets import mnist\n",
        "from tensorflow.keras.utils import to_categorical\n",
        "from keras.models import Sequential\n",
        "from keras.layers import Conv2D,MaxPooling2D,Dense,Flatten\n",
        "import matplotlib.pyplot as plt"
      ]
    },
    {
      "cell_type": "code",
      "source": [
        "(x_train,y_train),(x_test,y_test) = mnist.load_data()"
      ],
      "metadata": {
        "colab": {
          "base_uri": "https://localhost:8080/"
        },
        "id": "B4RielruDFVf",
        "outputId": "805c4d38-a73a-4551-f8b8-f49e79089af7"
      },
      "execution_count": null,
      "outputs": [
        {
          "output_type": "stream",
          "name": "stdout",
          "text": [
            "Downloading data from https://storage.googleapis.com/tensorflow/tf-keras-datasets/mnist.npz\n",
            "11493376/11490434 [==============================] - 0s 0us/step\n",
            "11501568/11490434 [==============================] - 0s 0us/step\n"
          ]
        }
      ]
    },
    {
      "cell_type": "code",
      "source": [
        "print(x_train.shape),print(y_train.shape),print(x_test.shape),print(y_test.shape)  ### 10,000 images with size 28x28"
      ],
      "metadata": {
        "colab": {
          "base_uri": "https://localhost:8080/"
        },
        "id": "lqfPhpwlIPwv",
        "outputId": "27bf9637-8d35-4fff-b6e0-1147c2d9c477"
      },
      "execution_count": null,
      "outputs": [
        {
          "output_type": "stream",
          "name": "stdout",
          "text": [
            "(60000, 28, 28)\n",
            "(60000,)\n",
            "(10000, 28, 28)\n",
            "(10000,)\n"
          ]
        },
        {
          "output_type": "execute_result",
          "data": {
            "text/plain": [
              "(None, None, None, None)"
            ]
          },
          "metadata": {},
          "execution_count": 6
        }
      ]
    },
    {
      "cell_type": "code",
      "source": [
        "from matplotlib import image\n",
        "image_index= 100\n",
        "plt.imshow(x_train[image_index],cmap='gray')\n",
        "plt.show()"
      ],
      "metadata": {
        "colab": {
          "base_uri": "https://localhost:8080/",
          "height": 265
        },
        "id": "_Qinpx__IauU",
        "outputId": "c5f7cc31-d418-446f-e81e-1018edecce2c"
      },
      "execution_count": null,
      "outputs": [
        {
          "output_type": "display_data",
          "data": {
            "text/plain": [
              "<Figure size 432x288 with 1 Axes>"
            ],
            "image/png": "[encoded data removed]"
          },
          "metadata": {
            "needs_background": "light"
          }
        }
      ]
    },
    {
      "cell_type": "code",
      "source": [
        "### Reshaping the Dataset\n",
        "### Keras input format ( number of images, rows, columns, dimension of the image)\n",
        "x_train = x_train.reshape(x_train.shape[0],28,28,1)  ### 1 in-case of grey scale image and 3 in case of RGB image\n",
        "x_test = x_test.reshape(x_test.shape[0],28,28,1)\n",
        "print(x_train.shape)\n",
        "print(x_test.shape)"
      ],
      "metadata": {
        "colab": {
          "base_uri": "https://localhost:8080/"
        },
        "id": "-oK5R6yVJGH-",
        "outputId": "7d7c3325-3f95-4014-f00d-3c2fdc588b66"
      },
      "execution_count": null,
      "outputs": [
        {
          "output_type": "stream",
          "name": "stdout",
          "text": [
            "(60000, 28, 28, 1)\n",
            "(10000, 28, 28, 1)\n"
          ]
        }
      ]
    },
    {
      "cell_type": "code",
      "source": [
        "### Data Scaling and normalization\n",
        "\"\"\"\n",
        "Done to make the algorithm run faster.\n",
        "Subtracting the values to distribute the values uniformly around 0\n",
        "\"\"\"\n",
        "\n",
        "### Explicitly converting the values to float so that we can get decimal points after division\n",
        "\n",
        "x_train = x_train.astype('float32')\n",
        "x_test = x_test.astype('float32')\n",
        "\n",
        "### Normalizing the RGB codes by dividing it to the max RGB value\n",
        "x_train /= 255- 0.5\n",
        "x_test /= 255- 0.5"
      ],
      "metadata": {
        "id": "nMQKs24rJuXu"
      },
      "execution_count": null,
      "outputs": []
    },
    {
      "cell_type": "code",
      "source": [
        "### Creating a Sequential model for CNN in keras\n",
        "\n",
        "num_filters = 8\n",
        "filter_size =  3   ### 3x3 dimension filter\n",
        "pool_size = 2   ### Pooling filter for maxpool layer is of size 2\n",
        "\n",
        "\n",
        "model = Sequential()\n",
        "model.add(Conv2D(num_filters,filter_size,strides=(1,1),input_shape=(28,28,1)))\n",
        "model.add(MaxPooling2D(pool_size=pool_size))\n",
        "model.add(Flatten())\n",
        "model.add(Dense(10,activation='softmax'))"
      ],
      "metadata": {
        "id": "iSDL7HDALgq3"
      },
      "execution_count": null,
      "outputs": []
    },
    {
      "cell_type": "code",
      "source": [
        "model.summary()"
      ],
      "metadata": {
        "colab": {
          "base_uri": "https://localhost:8080/"
        },
        "id": "aeiLzE-jNwAJ",
        "outputId": "67b69e7e-5adf-4c3f-f825-988320bce33c"
      },
      "execution_count": null,
      "outputs": [
        {
          "output_type": "stream",
          "name": "stdout",
          "text": [
            "Model: \"sequential\"\n",
            "_________________________________________________________________\n",
            " Layer (type)                Output Shape              Param #   \n",
            "=================================================================\n",
            " conv2d (Conv2D)             (None, 26, 26, 8)         80        \n",
            "                                                                 \n",
            " max_pooling2d (MaxPooling2D  (None, 13, 13, 8)        0         \n",
            " )                                                               \n",
            "                                                                 \n",
            " flatten (Flatten)           (None, 1352)              0         \n",
            "                                                                 \n",
            " dense (Dense)               (None, 10)                13530     \n",
            "                                                                 \n",
            "=================================================================\n",
            "Total params: 13,610\n",
            "Trainable params: 13,610\n",
            "Non-trainable params: 0\n",
            "_________________________________________________________________\n"
          ]
        }
      ]
    },
    {
      "cell_type": "code",
      "source": [
        "model.weights"
      ],
      "metadata": {
        "colab": {
          "base_uri": "https://localhost:8080/"
        },
        "id": "Xuc8b_VhN0p-",
        "outputId": "94215eb2-89e8-474b-9ea8-18253dc8c5e7"
      },
      "execution_count": null,
      "outputs": [
        {
          "output_type": "execute_result",
          "data": {
            "text/plain": [
              "[<tf.Variable 'conv2d/kernel:0' shape=(3, 3, 1, 8) dtype=float32, numpy=\n",
              " array([[[[-0.17683358, -0.0561948 , -0.23134963, -0.01160246,\n",
              "            0.12374613,  0.18162286,  0.03738001,  0.02593684]],\n",
              " \n",
              "         [[-0.07493666, -0.19840688, -0.10965386, -0.21706355,\n",
              "           -0.17577583,  0.04967731,  0.00743669,  0.2605083 ]],\n",
              " \n",
              "         [[ 0.12313941,  0.10558212, -0.26298714,  0.2578575 ,\n",
              "            0.11191773,  0.17649546,  0.09815827, -0.17808133]]],\n",
              " \n",
              " \n",
              "        [[[ 0.004897  , -0.12413645, -0.02182099, -0.24283323,\n",
              "            0.10958061, -0.17114617, -0.02307957, -0.20770046]],\n",
              " \n",
              "         [[ 0.02434745, -0.26625717,  0.11623424,  0.02349013,\n",
              "           -0.07200223, -0.19264692, -0.23028195, -0.18380173]],\n",
              " \n",
              "         [[-0.05475731, -0.03762996,  0.18388629, -0.05427629,\n",
              "           -0.24776831, -0.08732429, -0.15093464,  0.20363021]]],\n",
              " \n",
              " \n",
              "        [[[ 0.11306894,  0.11915749, -0.06266543,  0.04550499,\n",
              "           -0.17866263,  0.1422222 ,  0.13644665,  0.0322696 ]],\n",
              " \n",
              "         [[-0.12330872, -0.06980397, -0.26546267,  0.2029934 ,\n",
              "            0.16218159,  0.05203032,  0.19144142, -0.02965461]],\n",
              " \n",
              "         [[ 0.24920112,  0.09878153, -0.1160955 ,  0.04728848,\n",
              "           -0.2505601 ,  0.03019762,  0.16775271,  0.24721473]]]],\n",
              "       dtype=float32)>,\n",
              " <tf.Variable 'conv2d/bias:0' shape=(8,) dtype=float32, numpy=array([0., 0., 0., 0., 0., 0., 0., 0.], dtype=float32)>,\n",
              " <tf.Variable 'dense/kernel:0' shape=(1352, 10) dtype=float32, numpy=\n",
              " array([[-0.02287374, -0.00207277,  0.00563955, ...,  0.05485886,\n",
              "         -0.02126861, -0.00074742],\n",
              "        [-0.04144468, -0.05896534,  0.03940716, ...,  0.03016799,\n",
              "         -0.01200625, -0.04034631],\n",
              "        [-0.00726147,  0.05993467, -0.02029647, ..., -0.00622402,\n",
              "          0.00383275,  0.01579384],\n",
              "        ...,\n",
              "        [-0.00181434, -0.0016186 , -0.0262878 , ..., -0.00335091,\n",
              "         -0.03359252, -0.02814636],\n",
              "        [ 0.02507562,  0.01006655,  0.03755303, ..., -0.05948202,\n",
              "          0.00183288,  0.04239538],\n",
              "        [-0.01334615,  0.03171777, -0.0214068 , ...,  0.02623645,\n",
              "          0.04809465, -0.04101962]], dtype=float32)>,\n",
              " <tf.Variable 'dense/bias:0' shape=(10,) dtype=float32, numpy=array([0., 0., 0., 0., 0., 0., 0., 0., 0., 0.], dtype=float32)>]"
            ]
          },
          "metadata": {},
          "execution_count": 14
        }
      ]
    },
    {
      "cell_type": "code",
      "source": [
        "## compiling the model\n",
        "model.compile('adam',loss='categorical_crossentropy',metrics=['accuracy'])\n",
        "## Training the model\n",
        "model.fit(x_train,to_categorical(y_train),epochs = 3,verbose=1,validation_data=(x_test,to_categorical(y_test)),)"
      ],
      "metadata": {
        "colab": {
          "base_uri": "https://localhost:8080/"
        },
        "id": "hUnN6HXrN-it",
        "outputId": "1c8f08b1-2881-4ede-c5d0-338995d80de5"
      },
      "execution_count": null,
      "outputs": [
        {
          "output_type": "stream",
          "name": "stdout",
          "text": [
            "Epoch 1/3\n",
            "1875/1875 [==============================] - 19s 10ms/step - loss: 0.3685 - accuracy: 0.8949 - val_loss: 0.2355 - val_accuracy: 0.9320\n",
            "Epoch 2/3\n",
            "1875/1875 [==============================] - 17s 9ms/step - loss: 0.2206 - accuracy: 0.9372 - val_loss: 0.1826 - val_accuracy: 0.9489\n",
            "Epoch 3/3\n",
            "1875/1875 [==============================] - 17s 9ms/step - loss: 0.1622 - accuracy: 0.9549 - val_loss: 0.1385 - val_accuracy: 0.9603\n"
          ]
        },
        {
          "output_type": "execute_result",
          "data": {
            "text/plain": [
              "<keras.callbacks.History at 0x7f96a1734cd0>"
            ]
          },
          "metadata": {},
          "execution_count": 15
        }
      ]
    },
    {
      "cell_type": "code",
      "source": [
        "score = model.evaluate(x_test,to_categorical(y_test),verbose=0)\n",
        "print('Test Loss:', score[0])\n",
        "print('Test Accuracy:',score[1])"
      ],
      "metadata": {
        "colab": {
          "base_uri": "https://localhost:8080/"
        },
        "id": "jrOMGA-BOyMq",
        "outputId": "17069c9a-cb20-4143-8914-1342edb077e5"
      },
      "execution_count": null,
      "outputs": [
        {
          "output_type": "stream",
          "name": "stdout",
          "text": [
            "Test Loss: 0.13846024870872498\n",
            "Test Accuracy: 0.9603000283241272\n"
          ]
        }
      ]
    },
    {
      "cell_type": "code",
      "source": [
        "### Predicting the first 5 images\n",
        "predictions = model.predict(x_test[:5])"
      ],
      "metadata": {
        "id": "3z9WJN8pReLF"
      },
      "execution_count": null,
      "outputs": []
    },
    {
      "cell_type": "code",
      "source": [
        "### Printing the models output, here we will be printing the max values of the \n",
        "print(np.argmax(predictions,axis=1)) ### Index Values for the Predected Image\n",
        "print(y_test[:5]) ### ### Index Values for the Actual Image"
      ],
      "metadata": {
        "colab": {
          "base_uri": "https://localhost:8080/"
        },
        "id": "NwU91E77SrYw",
        "outputId": "b76cc098-842e-4d1f-bfe0-0d423b997c6a"
      },
      "execution_count": null,
      "outputs": [
        {
          "output_type": "stream",
          "name": "stdout",
          "text": [
            "[7 2 1 0 4]\n",
            "[7 2 1 0 4]\n"
          ]
        }
      ]
    },
    {
      "cell_type": "code",
      "source": [],
      "metadata": {
        "id": "VyGsFYm0edR4"
      },
      "execution_count": null,
      "outputs": []
    }
  ]
}